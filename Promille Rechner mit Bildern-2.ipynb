{
 "cells": [
  {
   "cell_type": "code",
   "execution_count": null,
   "metadata": {},
   "outputs": [],
   "source": [
    "pip freeze > requirements.txt"
   ]
  },
  {
   "cell_type": "markdown",
   "metadata": {},
   "source": [
    "# **WARNING!**\n",
    "\n",
    "##### *We do not support* underage drinking, excessive drinking, binge drinking, or any other unsafe drinking behavior.\n",
    "\n",
    "##### We do not take any responsibility for the information provided and the actions you take! \n",
    "\n",
    "### This program is meant for educational purposes and not for the exact prediction of the user's alcohol level or reduction of said alcohol level."
   ]
  },
  {
   "cell_type": "code",
   "execution_count": null,
   "metadata": {},
   "outputs": [],
   "source": [
    "from IPython.display import Image\n",
    "import time\n",
    "\n",
    "class User:\n",
    "    name = input (\"Enter your name:\")\n",
    "    print(\"\")\n",
    "    age = int(input('Please enter your age:'))\n",
    " \n",
    " \n",
    "u = User()\n",
    "print(\"\")\n",
    "print(\"Hello\",u.name, \"!\")\n",
    "print(\"\")\n",
    "\n",
    "if u.age<16:\n",
    "    display(Image(\"UnderAge.png\", width=350, height=350))\n",
    "    time.sleep(5)\n",
    "    exit()\n",
    "   \n",
    "else:\n",
    "    print(\"\")\n",
    "    print (\"You can now use the Promille Claculator, Alcohol Reduction Calculator and other educational tools.\")\n",
    "    display(Image(\"PartyStarted.png\", width=350, height=350))    \n",
    "   \n",
    "age=u.age\n"
   ]
  },
  {
   "cell_type": "code",
   "execution_count": null,
   "metadata": {},
   "outputs": [],
   "source": [
    "from ipywidgets import interact\n",
    "import ipywidgets as widgets\n",
    "import math\n",
    "from IPython.display import Image\n",
    "\n",
    "    \n",
    "def calculate1(Gender, Weight, Beer, Wine):\n",
    "    alkgramm = (10*Beer*0.33*5*0.8)+(10*Wine*0.25*12*0.8)\n",
    "    promille = round(alkgramm/(Gender*Weight),2)\n",
    "    resultText = \"You have \" + str(promille) + \" promille.You can continue drinking.\"\n",
    "    resultText2 = \"You have \" + str(promille) + \" promille. You should stop drinking!\"\n",
    "\n",
    "    if (promille)<0.5:\n",
    "        return resultText, display(Image(\"AnotherDrink.png\", width=350, height=350))\n",
    "    else:\n",
    "        return resultText2, display(Image(\"DontDrive.png\", width=350, height=350))\n",
    "\n",
    "   \n",
    "def calculate2(Gender, Weight, Beer, Wine,Shot):\n",
    "    alkgramm = (10*Beer*0.33*5*0.8)+(10*Wine*0.25*12*0.8)+(10*Shot*0.02*40*0.8)\n",
    "    promille = round(alkgramm/(Gender*Weight),2)\n",
    "    resultText = \"You have \" + str(promille) + \" promille.You can continue drinking.\"\n",
    "    resultText2 = \"You have \" + str(promille) + \" promille. You should stop drinking!\"\n",
    "    \n",
    "\n",
    "    if (promille)<0.5:\n",
    "        return resultText, display(Image(\"AnotherDrink.png\", width=350, height=350))\n",
    "        \n",
    "    else:\n",
    "        return resultText2, display(Image(\"DontDrive.png\", width=350, height=350))\n",
    "\n",
    "        \n",
    "        \n",
    "weightcontrol = widgets.IntSlider(min=40,max=150)\n",
    "beercontrol = widgets.IntSlider(min=0,max=5)\n",
    "winecontrol = widgets.IntSlider(min=0,max=5)\n",
    "shotcontrol = widgets.IntSlider(min=0,max=10)\n",
    "\n",
    "if age<18:\n",
    "    result = interact(calculate1, Gender=widgets.Dropdown(options=[('Male', 0.7), ('Female', 0.6)]), Weight=weightcontrol, Beer=beercontrol,Wine=winecontrol)\n",
    "else:\n",
    "    result = interact(calculate2, Gender=widgets.Dropdown(options=[('Male', 0.7), ('Female', 0.6)]), Weight=weightcontrol, Beer=beercontrol,Wine=winecontrol,Shot=shotcontrol)\n",
    "    \n",
    "    \n",
    "    "
   ]
  }
 ],
 "metadata": {
  "kernelspec": {
   "display_name": "Python 3",
   "language": "python",
   "name": "python3"
  },
  "language_info": {
   "codemirror_mode": {
    "name": "ipython",
    "version": 3
   },
   "file_extension": ".py",
   "mimetype": "text/x-python",
   "name": "python",
   "nbconvert_exporter": "python",
   "pygments_lexer": "ipython3",
   "version": "3.7.8"
  }
 },
 "nbformat": 4,
 "nbformat_minor": 4
}
