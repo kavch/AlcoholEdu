{
 "cells": [
  {
   "cell_type": "code",
   "execution_count": null,
   "metadata": {},
   "outputs": [],
   "source": [
    "pip freeze > requirements.txt"
   ]
  },
  {
   "cell_type": "markdown",
   "metadata": {},
   "source": [
    "# **WARNING!**\n",
    "\n",
    "##### *We do not support* underage drinking, excessive drinking, binge drinking, or any other unsafe drinking behavior.\n",
    "\n",
    "##### We do not take any responsibility for the information provided and the actions you take! \n",
    "\n",
    "### This program is meant for educational purposes and not for the exact prediction of the user's alcohol level or reduction of said alcohol level."
   ]
  },
  {
   "cell_type": "code",
   "execution_count": null,
   "metadata": {},
   "outputs": [],
   "source": [
    "from IPython.display import Image\n",
    "import time\n",
    "\n",
    "class User:\n",
    "    name = input (\"Enter your name:\")\n",
    "    print(\"\")\n",
    "    age = int(input('Please enter your age:'))\n",
    " \n",
    " \n",
    "u = User()\n",
    "print(\"\")\n",
    "print(\"Hello\",u.name, \"!\")\n",
    "print(\"\")\n",
    "\n",
    "if u.age<16:\n",
    "    display(Image(\"UnderAge.png\", width=350, height=350))\n",
    "    time.sleep(5)\n",
    "    exit()\n",
    "   \n",
    "else:\n",
    "    print(\"\")\n",
    "    print (\"You can now use the Promille Claculator, Alcohol Reduction Calculator and other educational tools.\")\n",
    "    display(Image(\"PartyStarted.png\", width=350, height=350))    \n",
    "   \n",
    "age=u.age\n"
   ]
  },
  {
   "cell_type": "markdown",
   "metadata": {},
   "source": [
    "# Promille Calculator and Alcohol Reduction Calculator\n",
    "\n",
    "##### In this calculator, the drinks are set with the following values:\n",
    "##### Beer: 0,33l with 5% alcohol\n",
    "##### Wine: 0,25l with 12% alcohol\n",
    "##### Shots: 0,2cl with 40% alcohol"
   ]
  },
  {
   "cell_type": "code",
   "execution_count": null,
   "metadata": {},
   "outputs": [],
   "source": [
    "from ipywidgets import interact\n",
    "import ipywidgets as widgets\n",
    "import math\n",
    "from IPython.display import Image\n",
    "\n",
    "    \n",
    "def calculate1(Gender, Weight, Beer, Wine):\n",
    "    alkgramm = (10*Beer*0.33*5*0.8)+(10*Wine*0.25*12*0.8)\n",
    "    promille = round(alkgramm/(Gender*Weight),2)\n",
    "    resultText = \"You have \" + str(promille) + \" promille.You can continue drinking.\"\n",
    "    resultText2 = \"You have \" + str(promille) + \" promille. You should stop drinking!\"\n",
    "    resultText3 = \"You have \" + str(promille) + \"promille.A blood alcohol content of 5‰ of higher gives a 50% mortality rate!\"\n",
    "    print(resultText if promille<0.5 else resultText2 if promille<5 else resultText3)\n",
    "    print(\"\")\n",
    "    print(\"Blood Alcohol Concentration Reduction\")\n",
    "    count = 0\n",
    "    while promille >=0.02 :\n",
    "        if count<1:\n",
    "            print(\"You have\", str(promille) + \" Promille after\", count,\"hours.\")\n",
    "        elif count<2:\n",
    "            print(\"You have\", str(promille) + \" Promille after\", count,\"hour.\")\n",
    "        else: \n",
    "            print(\"You have\", str(promille) + \" Promille after\", count,\"hours.\")\n",
    "        promille = round((promille*0.65),2)   \n",
    "        count += 1\n",
    "    print(\"You now 0 Promille\")\n",
    "    print(\"This will be in {} hours\".format(count))\n",
    "\n",
    "\n",
    "\n",
    "   \n",
    "def calculate2(Gender, Weight, Beer, Wine,Shot):\n",
    "    alkgramm = (10*Beer*0.33*5*0.8)+(10*Wine*0.25*12*0.8)+(10*Shot*0.02*40*0.8)\n",
    "    promille = round(alkgramm/(Gender*Weight),2)\n",
    "    resultText = \"You have \" + str(promille) + \" promille.You can continue drinking.\"\n",
    "    resultText2 = \"You have \" + str(promille) + \" promille. You should stop drinking!\"\n",
    "    resultText3 = \"You have \" + str(promille) + \" promille. A blood alcohol content of 5.0‰ or higher gives a 50% mortality rate!\"\n",
    "    print(resultText if promille<0.5 else resultText2 if promille<5 else resultText3)\n",
    "    print(\"\")\n",
    "    print(\"Blood Alcohol Concentration Reduction\")\n",
    "    count = 0\n",
    "    while promille >=0.02 :\n",
    "        if count<1:\n",
    "            print(\"You have\", str(promille) + \" Promille after\", count,\"hours.\")\n",
    "        elif count<2:\n",
    "            print(\"You have\", str(promille) + \" Promille after\", count,\"hour.\")\n",
    "        else: \n",
    "            print(\"You have\", str(promille) + \" Promille after\", count,\"hours.\")\n",
    "        promille = round((promille*0.65),2)   \n",
    "        count += 1\n",
    "    print(\"You now 0 Promille\")\n",
    "    print(\"This will be in {} hours\".format(count))\n",
    "\n",
    "    \n",
    "\n",
    "\n",
    "    \n",
    "        \n",
    "        \n",
    "weightcontrol = widgets.IntSlider(min=40,max=150)\n",
    "beercontrol = widgets.IntSlider(min=0,max=5)\n",
    "winecontrol = widgets.IntSlider(min=0,max=5)\n",
    "shotcontrol = widgets.IntSlider(min=0,max=10)\n",
    "\n",
    "if age<18:\n",
    "    result = interact(calculate1, Gender=widgets.Dropdown(options=[('Male', 0.7), ('Female', 0.6)]), Weight=weightcontrol, Beer=beercontrol,Wine=winecontrol)\n",
    "else:\n",
    "    result = interact(calculate2, Gender=widgets.Dropdown(options=[('Male', 0.7), ('Female', 0.6)]), Weight=weightcontrol, Beer=beercontrol,Wine=winecontrol,Shot=shotcontrol)\n",
    "    \n",
    "    \n",
    "    "
   ]
  },
  {
   "cell_type": "markdown",
   "metadata": {},
   "source": [
    "# How does Alcohol Blood Concentration decrease?"
   ]
  },
  {
   "cell_type": "code",
   "execution_count": null,
   "metadata": {},
   "outputs": [],
   "source": [
    "from IPython.display import Image\n",
    "from IPython.core.display import HTML \n",
    "Image(url= \"https://steemitimages.com/p/3zpz8WQe4SNGWd7TzozjPgq3rggennavDx3XPY35pEAVnq1PTRFZQZj6Dv9DZfzUUhW26ub6F8RLRxPHj2KdcNqH8MpR2gwvHaWZTBqJCnHR5ZFL5mTdjxguvPjLpZf3xfk2K2fk5CXFwkQTLtC6?format=match&mode=fit&width=1280\", width=500, height=500)"
   ]
  },
  {
   "cell_type": "markdown",
   "metadata": {},
   "source": [
    "##### The per mille value provides information about the blood alcohol concentration (BAC), i.e. the proportion of alcohol in a certain amount of blood. If a woman and a man drink a glass of wine at a party, the woman will have a much higher blood alcohol level than the man. What is the reason for this?\n",
    "\n",
    "##### Water accounts for about 60 percent of women's body weight, and 70 percent for men. That's because women, by nature, usually weigh less and have less muscle than men. Our muscle cells function like little water reservoirs.\n",
    "\n",
    "##### Even if a woman drinks the same amount and weighs the same amount as a man, the lower proportion of water in her body ensures that you end up with more alcohol in her blood. The reason: the same amount of alcohol is distributed over less water. This increases the concentration.\n",
    "\n",
    "\n",
    "#  Alcohol Limits in Europe\n",
    "\n",
    "#### The use of alcohol can have many devastating effects, especially driving under the influence of alcohol proves to be particularly dangerous. The penalties* and permille limits differ greatly within Europe.\n",
    "###### *The fines relate to violations with passenger cars.\n"
   ]
  },
  {
   "cell_type": "code",
   "execution_count": null,
   "metadata": {},
   "outputs": [],
   "source": [
    "import pandas as pd\n",
    "import numpy as  np\n",
    "\n",
    "df=pd.read_csv(\"Grenzwert.csv\")\n",
    "\n",
    "df.head(40).style.set_table_styles(\n",
    "[{'selector': 'th',\n",
    "  'props': [('background', '#4bb8b0'), \n",
    "            ('color', 'white'),\n",
    "            ('font-family', 'verdana')]},\n",
    " \n",
    " {'selector': 'td',\n",
    "  'props': [('font-family', 'verdana')]},\n",
    "\n",
    " {'selector': 'tr:nth-of-type(odd)',\n",
    "  'props': [('background', '#DCDCDC')]}, \n",
    " \n",
    " {'selector': 'tr:nth-of-type(even)',\n",
    "  'props': [('background', 'white')]},\n",
    " \n",
    " {'selector': 'tr:hover',\n",
    "  'props': [('background-color', '#4bb8c0')]}\n",
    " ]\n",
    ").hide_index()"
   ]
  }
 ],
 "metadata": {
  "kernelspec": {
   "display_name": "Python 3",
   "language": "python",
   "name": "python3"
  },
  "language_info": {
   "codemirror_mode": {
    "name": "ipython",
    "version": 3
   },
   "file_extension": ".py",
   "mimetype": "text/x-python",
   "name": "python",
   "nbconvert_exporter": "python",
   "pygments_lexer": "ipython3",
   "version": "3.7.8"
  }
 },
 "nbformat": 4,
 "nbformat_minor": 4
}
