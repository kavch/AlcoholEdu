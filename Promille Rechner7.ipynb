{
 "cells": [
  {
   "cell_type": "markdown",
   "metadata": {},
   "source": [
    "# **WARNING!**\n",
    "\n",
    "##### *We do not support* underage drinking, excessive drinking, binge drinking or any other unsafe drinking behavior.\n",
    "\n",
    "##### We do not take any responisbility for the information provided and the actions you take! \n",
    "\n",
    "### This programm is ment for educational purposes and not for the exact prediction of the users alkohol level or reduction of said alkohol level."
   ]
  },
  {
   "cell_type": "code",
   "execution_count": null,
   "metadata": {},
   "outputs": [],
   "source": [
    "class User:\n",
    "    name = input (\"Enter your name:\")\n",
    "    print(\"\")\n",
    "    age = int(input('Please enter your age:'))\n",
    " \n",
    " \n",
    "u = User()\n",
    "print(\"\")\n",
    "print(\"Hello\",u.name, \"!\")\n",
    "print(\"\")\n",
    "\n",
    "if u.age<16:\n",
    "    print(\"\")\n",
    "    print (u.name,\"you should not drink alcohol!\")\n",
    "    print(\"\")\n",
    "    print(\"Goodbye!\")\n",
    "    exit()\n",
    "   \n",
    "else:\n",
    "    print(\"\")\n",
    "    print (\"You can now use the Promille Claculator, Alcohol Reduction Calculator and other educational tools\")\n",
    "   \n",
    "age=u.age\n"
   ]
  },
  {
   "cell_type": "code",
   "execution_count": 1,
   "metadata": {},
   "outputs": [
    {
     "name": "stdout",
     "output_type": "stream",
     "text": [
      "Note: you may need to restart the kernel to use updated packages.\n"
     ]
    }
   ],
   "source": [
    "pip freeze > requirements.txt"
   ]
  },
  {
   "cell_type": "markdown",
   "metadata": {},
   "source": [
    "## **Promille Calculator**"
   ]
  },
  {
   "cell_type": "code",
   "execution_count": 3,
   "metadata": {},
   "outputs": [
    {
     "name": "stdout",
     "output_type": "stream",
     "text": [
      "16\n"
     ]
    },
    {
     "data": {
      "application/vnd.jupyter.widget-view+json": {
       "model_id": "1a4da13c0a95452e854ea121656217a8",
       "version_major": 2,
       "version_minor": 0
      },
      "text/plain": [
       "interactive(children=(Dropdown(description='Gender', options=(('Male', 0.7), ('Female', 0.6)), value=0.7), Int…"
      ]
     },
     "metadata": {},
     "output_type": "display_data"
    }
   ],
   "source": [
    "from ipywidgets import interact\n",
    "import ipywidgets as widgets\n",
    "import math\n",
    "\n",
    "print(age)\n",
    "    \n",
    "def calculate1(Gender, Weight, Beer, Wine):\n",
    "    alkgramm = (10*Beer*0.33*5*0.8)+(10*Wine*0.25*12*0.8)\n",
    "    promille = round(alkgramm/(Gender*Weight),2)\n",
    "    resultText = \"You have \" + str(promille) + \" promille\"\n",
    "    return resultText\n",
    "   \n",
    "def calculate2(Gender, Weight, Beer, Wine,Shot):\n",
    "    alkgramm = (10*Beer*0.33*5*0.8)+(10*Wine*0.25*12*0.8)+(10*Shot*0.02*40*0.8)\n",
    "    promille = round(alkgramm/(Gender*Weight),2)\n",
    "    resultText = \"You have \" + str(promille) + \" promille\"\n",
    "    return resultText\n",
    "\n",
    "weightcontrol = widgets.IntSlider(min=40,max=150)\n",
    "beercontrol = widgets.IntSlider(min=0,max=5)\n",
    "winecontrol = widgets.IntSlider(min=0,max=5)\n",
    "shotcontrol = widgets.IntSlider(min=0,max=10)\n",
    "\n",
    "if age<18:\n",
    "    result = interact(calculate1, Gender=widgets.Dropdown(options=[('Male', 0.7), ('Female', 0.6)]), Weight=weightcontrol, Beer=beercontrol,Wine=winecontrol)\n",
    "else:\n",
    "    result = interact(calculate2, Gender=widgets.Dropdown(options=[('Male', 0.7), ('Female', 0.6)]), Weight=weightcontrol, Beer=beercontrol,Wine=winecontrol,Shot=shotcontrol)\n",
    "\n",
    "\n"
   ]
  },
  {
   "cell_type": "markdown",
   "metadata": {},
   "source": [
    "# **Alcohol Reduction Calculator**"
   ]
  },
  {
   "cell_type": "code",
   "execution_count": 20,
   "metadata": {},
   "outputs": [
    {
     "name": "stdout",
     "output_type": "stream",
     "text": [
      "If you want to know more about alkohol consumption enter your promille result\n",
      "Enter your promille:2\n",
      "You have 2.0 Promille after 0 hours.\n",
      "You have 1.3 Promille after 1 hour.\n",
      "You have 0.85 Promille after 2 hours.\n",
      "You have 0.55 Promille after 3 hours.\n",
      "You have 0.36 Promille after 4 hours.\n",
      "You have 0.23 Promille after 5 hours.\n",
      "You have 0.15 Promille after 6 hours.\n",
      "You have 0.1 Promille after 7 hours.\n",
      "You have 0.07 Promille after 8 hours.\n",
      "You have 0.05 Promille after 9 hours.\n",
      "You have 0.03 Promille after 10 hours.\n",
      "You have 0.02 Promille after 11 hours.\n",
      "You have 0 Promille\n",
      "This will be in 12 hours\n"
     ]
    }
   ],
   "source": [
    "print(\"If you want to know more about alkohol consumption enter your promille result\")\n",
    "alk = float(input (\"Enter your promille:\"))\n",
    "\n",
    "\n",
    "\n",
    "from decimal import Decimal\n",
    "\n",
    "\n",
    "\n",
    "count = 0\n",
    "while alk >=0.02 :\n",
    "    if count<1:\n",
    "        print(\"You have\", str(alk) + \" Promille after\", count,\"hours.\")\n",
    "    elif count<2:\n",
    "        print(\"You have\", str(alk) + \" Promille after\", count,\"hour.\")\n",
    "    else: \n",
    "        print(\"You have\", str(alk) + \" Promille after\", count,\"hours.\")\n",
    "    alk = round((alk*0.65),2)   \n",
    "    count += 1\n",
    "print(\"You have 0 Promille\")\n",
    "print(\"This will be in {} hours\".format(count))"
   ]
  },
  {
   "cell_type": "markdown",
   "metadata": {},
   "source": [
    "## How do the Alcohol Blood Concentration  decrease?"
   ]
  },
  {
   "cell_type": "code",
   "execution_count": 1,
   "metadata": {},
   "outputs": [
    {
     "data": {
      "text/html": [
       "<img src=\"https://steemitimages.com/p/3zpz8WQe4SNGWd7TzozjPgq3rggennavDx3XPY35pEAVnq1PTRFZQZj6Dv9DZfzUUhW26ub6F8RLRxPHj2KdcNqH8MpR2gwvHaWZTBqJCnHR5ZFL5mTdjxguvPjLpZf3xfk2K2fk5CXFwkQTLtC6?format=match&mode=fit&width=1280\" width=\"500\" height=\"500\"/>"
      ],
      "text/plain": [
       "<IPython.core.display.Image object>"
      ]
     },
     "execution_count": 1,
     "metadata": {},
     "output_type": "execute_result"
    }
   ],
   "source": [
    "from IPython.display import Image\n",
    "from IPython.core.display import HTML \n",
    "Image(url= \"https://steemitimages.com/p/3zpz8WQe4SNGWd7TzozjPgq3rggennavDx3XPY35pEAVnq1PTRFZQZj6Dv9DZfzUUhW26ub6F8RLRxPHj2KdcNqH8MpR2gwvHaWZTBqJCnHR5ZFL5mTdjxguvPjLpZf3xfk2K2fk5CXFwkQTLtC6?format=match&mode=fit&width=1280\", width=500, height=500)"
   ]
  },
  {
   "cell_type": "markdown",
   "metadata": {},
   "source": [
    "##### The per mille value provides information about the blood alcohol concentration (BAC), i.e. the proportion of alcohol in a certain amount of blood. If a woman and a man drink a glass of wine at a party, the woman will have a much higher blood alcohol level than the man. What is the reason for this?\n",
    "\n",
    "##### Water accounts for about 60 percent of women's body weight, and 70 percent for men. That's because women, by nature, usually weigh less and have less muscle than men. Our muscle cells function like little water reservoirs.\n",
    "\n",
    "##### Even if a woman drinks the same amount and weighs the same amount as a man, the lower proportion of water in her body ensures that you end up with more alcohol in your blood. The reason: the same amount of alcohol is distributed over less water. This increases the concentration.\n"
   ]
  },
  {
   "cell_type": "markdown",
   "metadata": {},
   "source": [
    "#  Alcohol Limits in Europe\n",
    "\n",
    "#### The use of alcohol can have many devastating effects, especially driving under the influence of alcohol proves to be particularly dangerous. The penalties and per mille limits differ greatly within Europe."
   ]
  },
  {
   "cell_type": "code",
   "execution_count": 5,
   "metadata": {},
   "outputs": [
    {
     "name": "stdout",
     "output_type": "stream",
     "text": [
      "Requirement already satisfied: pandas in /srv/conda/envs/notebook/lib/python3.7/site-packages (1.1.5)\r\n",
      "Requirement already satisfied: python-dateutil>=2.7.3 in /srv/conda/envs/notebook/lib/python3.7/site-packages (from pandas) (2.8.1)\r\n",
      "Requirement already satisfied: numpy>=1.15.4 in /srv/conda/envs/notebook/lib/python3.7/site-packages (from pandas) (1.19.4)\r\n",
      "Requirement already satisfied: pytz>=2017.2 in /srv/conda/envs/notebook/lib/python3.7/site-packages (from pandas) (2020.5)\r\n",
      "Requirement already satisfied: six>=1.5 in /srv/conda/envs/notebook/lib/python3.7/site-packages (from python-dateutil>=2.7.3->pandas) (1.15.0)\r\n"
     ]
    }
   ],
   "source": [
    "!pip install pandas"
   ]
  },
  {
   "cell_type": "code",
   "execution_count": 6,
   "metadata": {},
   "outputs": [],
   "source": [
    "import pandas as pd\n",
    "import numpy as  np"
   ]
  },
  {
   "cell_type": "code",
   "execution_count": 7,
   "metadata": {},
   "outputs": [],
   "source": [
    "df=pd.read_csv(\"Grenzwert.csv\")\n",
    "\n"
   ]
  },
  {
   "cell_type": "code",
   "execution_count": 8,
   "metadata": {},
   "outputs": [
    {
     "data": {
      "text/html": [
       "<style  type=\"text/css\" >\n",
       "    #T_36e0322e_46cd_11eb_9a68_624972e3c0c6 th {\n",
       "          background: #4bb8b0;\n",
       "          color: white;\n",
       "          font-family: verdana;\n",
       "    }    #T_36e0322e_46cd_11eb_9a68_624972e3c0c6 td {\n",
       "          font-family: verdana;\n",
       "    }    #T_36e0322e_46cd_11eb_9a68_624972e3c0c6 tr:nth-of-type(odd) {\n",
       "          background: #DCDCDC;\n",
       "    }    #T_36e0322e_46cd_11eb_9a68_624972e3c0c6 tr:nth-of-type(even) {\n",
       "          background: white;\n",
       "    }    #T_36e0322e_46cd_11eb_9a68_624972e3c0c6 tr:hover {\n",
       "          background-color: #4bb8c0;\n",
       "    }</style><table id=\"T_36e0322e_46cd_11eb_9a68_624972e3c0c6\" ><thead>    <tr>        <th class=\"col_heading level0 col0\" >Country</th>        <th class=\"col_heading level0 col1\" >‰ Limit</th>        <th class=\"col_heading level0 col2\" >Fine in Euro</th>    </tr></thead><tbody>\n",
       "                <tr>\n",
       "                                <td id=\"T_36e0322e_46cd_11eb_9a68_624972e3c0c6row0_col0\" class=\"data row0 col0\" >Austria</td>\n",
       "                        <td id=\"T_36e0322e_46cd_11eb_9a68_624972e3c0c6row0_col1\" class=\"data row0 col1\" >0.5‰ </td>\n",
       "                        <td id=\"T_36e0322e_46cd_11eb_9a68_624972e3c0c6row0_col2\" class=\"data row0 col2\" >from 300</td>\n",
       "            </tr>\n",
       "            <tr>\n",
       "                                <td id=\"T_36e0322e_46cd_11eb_9a68_624972e3c0c6row1_col0\" class=\"data row1 col0\" >Belgium</td>\n",
       "                        <td id=\"T_36e0322e_46cd_11eb_9a68_624972e3c0c6row1_col1\" class=\"data row1 col1\" >0.5‰ </td>\n",
       "                        <td id=\"T_36e0322e_46cd_11eb_9a68_624972e3c0c6row1_col2\" class=\"data row1 col2\" >from 180</td>\n",
       "            </tr>\n",
       "            <tr>\n",
       "                                <td id=\"T_36e0322e_46cd_11eb_9a68_624972e3c0c6row2_col0\" class=\"data row2 col0\" >Bosnia-Herzegovina</td>\n",
       "                        <td id=\"T_36e0322e_46cd_11eb_9a68_624972e3c0c6row2_col1\" class=\"data row2 col1\" >0.3‰*</td>\n",
       "                        <td id=\"T_36e0322e_46cd_11eb_9a68_624972e3c0c6row2_col2\" class=\"data row2 col2\" >from 200</td>\n",
       "            </tr>\n",
       "            <tr>\n",
       "                                <td id=\"T_36e0322e_46cd_11eb_9a68_624972e3c0c6row3_col0\" class=\"data row3 col0\" >Bulgaria</td>\n",
       "                        <td id=\"T_36e0322e_46cd_11eb_9a68_624972e3c0c6row3_col1\" class=\"data row3 col1\" >0.5‰</td>\n",
       "                        <td id=\"T_36e0322e_46cd_11eb_9a68_624972e3c0c6row3_col2\" class=\"data row3 col2\" > from 255</td>\n",
       "            </tr>\n",
       "            <tr>\n",
       "                                <td id=\"T_36e0322e_46cd_11eb_9a68_624972e3c0c6row4_col0\" class=\"data row4 col0\" >Croatia</td>\n",
       "                        <td id=\"T_36e0322e_46cd_11eb_9a68_624972e3c0c6row4_col1\" class=\"data row4 col1\" >0.5‰ </td>\n",
       "                        <td id=\"T_36e0322e_46cd_11eb_9a68_624972e3c0c6row4_col2\" class=\"data row4 col2\" >from 400</td>\n",
       "            </tr>\n",
       "            <tr>\n",
       "                                <td id=\"T_36e0322e_46cd_11eb_9a68_624972e3c0c6row5_col0\" class=\"data row5 col0\" >Cyprus</td>\n",
       "                        <td id=\"T_36e0322e_46cd_11eb_9a68_624972e3c0c6row5_col1\" class=\"data row5 col1\" >0.5‰ </td>\n",
       "                        <td id=\"T_36e0322e_46cd_11eb_9a68_624972e3c0c6row5_col2\" class=\"data row5 col2\" >from 100</td>\n",
       "            </tr>\n",
       "            <tr>\n",
       "                                <td id=\"T_36e0322e_46cd_11eb_9a68_624972e3c0c6row6_col0\" class=\"data row6 col0\" >Czeck Republic</td>\n",
       "                        <td id=\"T_36e0322e_46cd_11eb_9a68_624972e3c0c6row6_col1\" class=\"data row6 col1\" >0.00‰</td>\n",
       "                        <td id=\"T_36e0322e_46cd_11eb_9a68_624972e3c0c6row6_col2\" class=\"data row6 col2\" >from 100</td>\n",
       "            </tr>\n",
       "            <tr>\n",
       "                                <td id=\"T_36e0322e_46cd_11eb_9a68_624972e3c0c6row7_col0\" class=\"data row7 col0\" >Denmark</td>\n",
       "                        <td id=\"T_36e0322e_46cd_11eb_9a68_624972e3c0c6row7_col1\" class=\"data row7 col1\" >0.5‰</td>\n",
       "                        <td id=\"T_36e0322e_46cd_11eb_9a68_624972e3c0c6row7_col2\" class=\"data row7 col2\" >up to 1 net monthly earnings</td>\n",
       "            </tr>\n",
       "            <tr>\n",
       "                                <td id=\"T_36e0322e_46cd_11eb_9a68_624972e3c0c6row8_col0\" class=\"data row8 col0\" >Estonia</td>\n",
       "                        <td id=\"T_36e0322e_46cd_11eb_9a68_624972e3c0c6row8_col1\" class=\"data row8 col1\" >0.2‰</td>\n",
       "                        <td id=\"T_36e0322e_46cd_11eb_9a68_624972e3c0c6row8_col2\" class=\"data row8 col2\" >from 400</td>\n",
       "            </tr>\n",
       "            <tr>\n",
       "                                <td id=\"T_36e0322e_46cd_11eb_9a68_624972e3c0c6row9_col0\" class=\"data row9 col0\" >Finland</td>\n",
       "                        <td id=\"T_36e0322e_46cd_11eb_9a68_624972e3c0c6row9_col1\" class=\"data row9 col1\" >0.5‰</td>\n",
       "                        <td id=\"T_36e0322e_46cd_11eb_9a68_624972e3c0c6row9_col2\" class=\"data row9 col2\" >from 15 daily rates</td>\n",
       "            </tr>\n",
       "            <tr>\n",
       "                                <td id=\"T_36e0322e_46cd_11eb_9a68_624972e3c0c6row10_col0\" class=\"data row10 col0\" >France</td>\n",
       "                        <td id=\"T_36e0322e_46cd_11eb_9a68_624972e3c0c6row10_col1\" class=\"data row10 col1\" >0.5‰ </td>\n",
       "                        <td id=\"T_36e0322e_46cd_11eb_9a68_624972e3c0c6row10_col2\" class=\"data row10 col2\" >from 135</td>\n",
       "            </tr>\n",
       "            <tr>\n",
       "                                <td id=\"T_36e0322e_46cd_11eb_9a68_624972e3c0c6row11_col0\" class=\"data row11 col0\" >Germany</td>\n",
       "                        <td id=\"T_36e0322e_46cd_11eb_9a68_624972e3c0c6row11_col1\" class=\"data row11 col1\" >0.5‰ </td>\n",
       "                        <td id=\"T_36e0322e_46cd_11eb_9a68_624972e3c0c6row11_col2\" class=\"data row11 col2\" >from 500</td>\n",
       "            </tr>\n",
       "            <tr>\n",
       "                                <td id=\"T_36e0322e_46cd_11eb_9a68_624972e3c0c6row12_col0\" class=\"data row12 col0\" >Great Britain</td>\n",
       "                        <td id=\"T_36e0322e_46cd_11eb_9a68_624972e3c0c6row12_col1\" class=\"data row12 col1\" >0.8‰ (Schottland 0.5‰ )</td>\n",
       "                        <td id=\"T_36e0322e_46cd_11eb_9a68_624972e3c0c6row12_col2\" class=\"data row12 col2\" >unlimited</td>\n",
       "            </tr>\n",
       "            <tr>\n",
       "                                <td id=\"T_36e0322e_46cd_11eb_9a68_624972e3c0c6row13_col0\" class=\"data row13 col0\" >Greece</td>\n",
       "                        <td id=\"T_36e0322e_46cd_11eb_9a68_624972e3c0c6row13_col1\" class=\"data row13 col1\" >0.5‰ </td>\n",
       "                        <td id=\"T_36e0322e_46cd_11eb_9a68_624972e3c0c6row13_col2\" class=\"data row13 col2\" >200</td>\n",
       "            </tr>\n",
       "            <tr>\n",
       "                                <td id=\"T_36e0322e_46cd_11eb_9a68_624972e3c0c6row14_col0\" class=\"data row14 col0\" >Hungary</td>\n",
       "                        <td id=\"T_36e0322e_46cd_11eb_9a68_624972e3c0c6row14_col1\" class=\"data row14 col1\" >0.00‰</td>\n",
       "                        <td id=\"T_36e0322e_46cd_11eb_9a68_624972e3c0c6row14_col2\" class=\"data row14 col2\" >up to 300</td>\n",
       "            </tr>\n",
       "            <tr>\n",
       "                                <td id=\"T_36e0322e_46cd_11eb_9a68_624972e3c0c6row15_col0\" class=\"data row15 col0\" >Iceland</td>\n",
       "                        <td id=\"T_36e0322e_46cd_11eb_9a68_624972e3c0c6row15_col1\" class=\"data row15 col1\" >0.5‰</td>\n",
       "                        <td id=\"T_36e0322e_46cd_11eb_9a68_624972e3c0c6row15_col2\" class=\"data row15 col2\" >from 515</td>\n",
       "            </tr>\n",
       "            <tr>\n",
       "                                <td id=\"T_36e0322e_46cd_11eb_9a68_624972e3c0c6row16_col0\" class=\"data row16 col0\" >Ireland</td>\n",
       "                        <td id=\"T_36e0322e_46cd_11eb_9a68_624972e3c0c6row16_col1\" class=\"data row16 col1\" >0.5‰ </td>\n",
       "                        <td id=\"T_36e0322e_46cd_11eb_9a68_624972e3c0c6row16_col2\" class=\"data row16 col2\" >from 200</td>\n",
       "            </tr>\n",
       "            <tr>\n",
       "                                <td id=\"T_36e0322e_46cd_11eb_9a68_624972e3c0c6row17_col0\" class=\"data row17 col0\" >Italy</td>\n",
       "                        <td id=\"T_36e0322e_46cd_11eb_9a68_624972e3c0c6row17_col1\" class=\"data row17 col1\" >0.5‰ </td>\n",
       "                        <td id=\"T_36e0322e_46cd_11eb_9a68_624972e3c0c6row17_col2\" class=\"data row17 col2\" >from 530</td>\n",
       "            </tr>\n",
       "            <tr>\n",
       "                                <td id=\"T_36e0322e_46cd_11eb_9a68_624972e3c0c6row18_col0\" class=\"data row18 col0\" >Litavia</td>\n",
       "                        <td id=\"T_36e0322e_46cd_11eb_9a68_624972e3c0c6row18_col1\" class=\"data row18 col1\" >0.5‰ </td>\n",
       "                        <td id=\"T_36e0322e_46cd_11eb_9a68_624972e3c0c6row18_col2\" class=\"data row18 col2\" >from 210</td>\n",
       "            </tr>\n",
       "            <tr>\n",
       "                                <td id=\"T_36e0322e_46cd_11eb_9a68_624972e3c0c6row19_col0\" class=\"data row19 col0\" >Lithuania</td>\n",
       "                        <td id=\"T_36e0322e_46cd_11eb_9a68_624972e3c0c6row19_col1\" class=\"data row19 col1\" >04.‰ </td>\n",
       "                        <td id=\"T_36e0322e_46cd_11eb_9a68_624972e3c0c6row19_col2\" class=\"data row19 col2\" >from 290</td>\n",
       "            </tr>\n",
       "    </tbody></table>"
      ],
      "text/plain": [
       "<pandas.io.formats.style.Styler at 0x7f0fb97bc5d0>"
      ]
     },
     "execution_count": 8,
     "metadata": {},
     "output_type": "execute_result"
    }
   ],
   "source": [
    "df.head(20).style.set_table_styles(\n",
    "[{'selector': 'th',\n",
    "  'props': [('background', '#4bb8b0'), \n",
    "            ('color', 'white'),\n",
    "            ('font-family', 'verdana')]},\n",
    " \n",
    " {'selector': 'td',\n",
    "  'props': [('font-family', 'verdana')]},\n",
    "\n",
    " {'selector': 'tr:nth-of-type(odd)',\n",
    "  'props': [('background', '#DCDCDC')]}, \n",
    " \n",
    " {'selector': 'tr:nth-of-type(even)',\n",
    "  'props': [('background', 'white')]},\n",
    " \n",
    " {'selector': 'tr:hover',\n",
    "  'props': [('background-color', '#4bb8c0')]}\n",
    " ]\n",
    ").hide_index()"
   ]
  },
  {
   "cell_type": "markdown",
   "metadata": {},
   "source": [
    "##### The fines relate to violations with passenger cars."
   ]
  },
  {
   "cell_type": "code",
   "execution_count": null,
   "metadata": {},
   "outputs": [],
   "source": []
  }
 ],
 "metadata": {
  "kernelspec": {
   "display_name": "Python 3",
   "language": "python",
   "name": "python3"
  },
  "language_info": {
   "codemirror_mode": {
    "name": "ipython",
    "version": 3
   },
   "file_extension": ".py",
   "mimetype": "text/x-python",
   "name": "python",
   "nbconvert_exporter": "python",
   "pygments_lexer": "ipython3",
   "version": "3.7.8"
  }
 },
 "nbformat": 4,
 "nbformat_minor": 4
}
